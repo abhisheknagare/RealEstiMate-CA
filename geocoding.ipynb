{
 "cells": [
  {
   "cell_type": "code",
   "execution_count": null,
   "id": "1dadef98",
   "metadata": {},
   "outputs": [],
   "source": [
    "import os\n",
    "import pandas as pd\n",
    "import numpy as np\n",
    "import matplotlib.pyplot as plt\n",
    "import seaborn as sns\n",
    "\n",
    "from datetime import datetime\n",
    "\n",
    "from shapely.geometry import Point\n",
    "import geopandas as gpd\n",
    "\n",
    "from geopy.geocoders import Nominatim\n",
    "from geopy.extra.rate_limiter import RateLimiter\n",
    "from geopy.exc import GeocoderTimedOut, GeocoderServiceError"
   ]
  },
  {
   "cell_type": "code",
   "execution_count": null,
   "id": "30a2a86c",
   "metadata": {},
   "outputs": [],
   "source": [
    "all_data = pd.read_csv('data.csv')"
   ]
  },
  {
   "cell_type": "code",
   "execution_count": null,
   "id": "395335c0",
   "metadata": {},
   "outputs": [],
   "source": [
    "missing_loc_data = all_data[(all_data['Latitude'].isna()) | \n",
    "                            (all_data['Longitude'].isna()) |\n",
    "                            (all_data['PostalCode'].str.len() != 5)]\n",
    "\n",
    "addresses = missing_loc_data.loc[:, ['UnparsedAddress', 'City', 'StateOrProvince']]\n",
    "addresses['FullAddress'] = addresses[['UnparsedAddress', 'City', 'StateOrProvince']] \\\n",
    "    .apply(lambda row: ' '.join([str(x).strip() for x in row if pd.notna(x)]), axis=1)\n",
    "\n",
    "# Geocoding to fill missing \n",
    "geolocator = Nominatim(user_agent=\"idx_cleaning_script\", timeout=10)\n",
    "geocode = RateLimiter(geolocator.geocode, min_delay_seconds=0.5, max_retries=1, error_wait_seconds=0.5)\n",
    "\n",
    "lat = {}\n",
    "lon = {}\n",
    "zip_code = {}\n",
    "city = {}\n",
    "\n",
    "for i in addresses['FullAddress']:\n",
    "    try:\n",
    "        location = geocode(i)\n",
    "        if location is not None:\n",
    "            lat[i] = location.latitude\n",
    "            lon[i] = location.longitude\n",
    "\n",
    "            raw_data = location.raw\n",
    "            if 'address' in raw_data:\n",
    "                zip_code[i] = raw_data['address'].get('postcode', '')\n",
    "                city[i] = raw_data['address'].get('city', '')\n",
    "            else:\n",
    "                zip_code[i] = ''\n",
    "                city[i] = ''\n",
    "        else:\n",
    "            print(f\"Address not found: {i}\")\n",
    "    except (GeocoderTimedOut, GeocoderServiceError) as e:\n",
    "        print(f\"Geocoding timed out for: {i} – {e}\")\n",
    "        lat[i] = ''\n",
    "        lon[i] = ''\n",
    "        zip_code[i] = ''\n",
    "        city[i] = ''\n",
    "\n",
    "all_data['Latitude'] = all_data['Latitude'].fillna(all_data['UnparsedAddress'].map(lat))\n",
    "all_data['Longitude'] = all_data['Longitude'].fillna(all_data['UnparsedAddress'].map(lon))\n",
    "all_data['PostalCode'] = all_data['PostalCode'].fillna(all_data['UnparsedAddress'].map(zip_code))\n",
    "all_data['City'] = all_data['City'].fillna(all_data['UnparsedAddress'].map(city))\n",
    "\n",
    "# Drop rows where geocoding failed\n",
    "all_data = all_data.dropna(subset=['Latitude', 'Longitude'])\n",
    "all_data = all_data.dropna(subset=['PostalCode', 'City'])\n",
    "\n",
    "# Remove outliers in isolated areas of California - Jun\n",
    "all_data = all_data[(all_data['Latitude']>30)&(all_data['Longitude']<-50)]"
   ]
  }
 ],
 "metadata": {
  "language_info": {
   "name": "python"
  }
 },
 "nbformat": 4,
 "nbformat_minor": 5
}
